{
  "nbformat": 4,
  "nbformat_minor": 0,
  "metadata": {
    "colab": {
      "provenance": [],
      "authorship_tag": "ABX9TyOlKGhj9wPQoPLKLtz/3KR3",
      "include_colab_link": true
    },
    "kernelspec": {
      "name": "python3",
      "display_name": "Python 3"
    },
    "language_info": {
      "name": "python"
    }
  },
  "cells": [
    {
      "cell_type": "markdown",
      "metadata": {
        "id": "view-in-github",
        "colab_type": "text"
      },
      "source": [
        "<a href=\"https://colab.research.google.com/github/Santosh-Reddy1310/Machine_Learning_Projects/blob/main/FakeNewsDetection.ipynb\" target=\"_parent\"><img src=\"https://colab.research.google.com/assets/colab-badge.svg\" alt=\"Open In Colab\"/></a>"
      ]
    },
    {
      "cell_type": "markdown",
      "source": [
        " Build a logistic regression model to classify news articles as either \"real\" or \"fake\" (binary classification).\n"
      ],
      "metadata": {
        "id": "12YlmO4Uzlz-"
      }
    },
    {
      "cell_type": "code",
      "source": [
        "#importing necessary dependencies\n",
        "\n",
        "import pandas as pd\n",
        "import numpy as np\n",
        "import nltk"
      ],
      "metadata": {
        "id": "cfSTFmhWz0Vi"
      },
      "execution_count": 1,
      "outputs": []
    },
    {
      "cell_type": "markdown",
      "source": [
        "Step 1 : Load and combine Data"
      ],
      "metadata": {
        "id": "meQMfTCt46jQ"
      }
    },
    {
      "cell_type": "code",
      "source": [
        "true_news = pd.read_csv('/content/True.csv')\n",
        "fake_news = pd.read_csv('/content/Fake.csv')\n",
        "\n",
        "print('Files are Loaded successfully')"
      ],
      "metadata": {
        "colab": {
          "base_uri": "https://localhost:8080/"
        },
        "id": "z-9e9oX_27Ak",
        "outputId": "9cdedead-95da-4b95-8998-e115959c2972"
      },
      "execution_count": 2,
      "outputs": [
        {
          "output_type": "stream",
          "name": "stdout",
          "text": [
            "Files are Loaded successfully\n"
          ]
        }
      ]
    },
    {
      "cell_type": "markdown",
      "source": [
        "Adding label column to each Dataframe and asiigning 0 for true and 1 for fake news"
      ],
      "metadata": {
        "id": "3DEJiJm83XmG"
      }
    },
    {
      "cell_type": "code",
      "source": [
        "true_news['Label'] = 0\n",
        "fake_news['Label'] = 1\n",
        "\n",
        "#combining dataframes\n",
        "df = pd.concat([true_news, fake_news],ignore_index=True)\n",
        "\n",
        "print(df.head())"
      ],
      "metadata": {
        "colab": {
          "base_uri": "https://localhost:8080/"
        },
        "id": "Bi1T5e7S3U1Z",
        "outputId": "5c5b7d5d-aedb-469f-ecad-4358f2985e9a"
      },
      "execution_count": 3,
      "outputs": [
        {
          "output_type": "stream",
          "name": "stdout",
          "text": [
            "                                               title  \\\n",
            "0  As U.S. budget fight looms, Republicans flip t...   \n",
            "1  U.S. military to accept transgender recruits o...   \n",
            "2  Senior U.S. Republican senator: 'Let Mr. Muell...   \n",
            "3  FBI Russia probe helped by Australian diplomat...   \n",
            "4  Trump wants Postal Service to charge 'much mor...   \n",
            "\n",
            "                                                text       subject  \\\n",
            "0  WASHINGTON (Reuters) - The head of a conservat...  politicsNews   \n",
            "1  WASHINGTON (Reuters) - Transgender people will...  politicsNews   \n",
            "2  WASHINGTON (Reuters) - The special counsel inv...  politicsNews   \n",
            "3  WASHINGTON (Reuters) - Trump campaign adviser ...  politicsNews   \n",
            "4  SEATTLE/WASHINGTON (Reuters) - President Donal...  politicsNews   \n",
            "\n",
            "                 date  Label  \n",
            "0  December 31, 2017       0  \n",
            "1  December 29, 2017       0  \n",
            "2  December 31, 2017       0  \n",
            "3  December 30, 2017       0  \n",
            "4  December 29, 2017       0  \n"
          ]
        }
      ]
    },
    {
      "cell_type": "code",
      "source": [
        "#checking the labels\n",
        "print(df['Label'].value_counts())"
      ],
      "metadata": {
        "colab": {
          "base_uri": "https://localhost:8080/"
        },
        "id": "GnZuUAPu4DcI",
        "outputId": "532dd90a-83d9-4a92-f55b-f42c0247140d"
      },
      "execution_count": 4,
      "outputs": [
        {
          "output_type": "stream",
          "name": "stdout",
          "text": [
            "Label\n",
            "1    23481\n",
            "0    21417\n",
            "Name: count, dtype: int64\n"
          ]
        }
      ]
    },
    {
      "cell_type": "code",
      "source": [
        "#checking for missing values before preprocessing\n",
        "print(df.isnull().sum())"
      ],
      "metadata": {
        "colab": {
          "base_uri": "https://localhost:8080/"
        },
        "id": "CAQr2QjB4T9w",
        "outputId": "67d00c57-f0be-4e20-85d3-a7db4ca10b1a"
      },
      "execution_count": 5,
      "outputs": [
        {
          "output_type": "stream",
          "name": "stdout",
          "text": [
            "title      0\n",
            "text       0\n",
            "subject    0\n",
            "date       0\n",
            "Label      0\n",
            "dtype: int64\n"
          ]
        }
      ]
    },
    {
      "cell_type": "markdown",
      "source": [
        "Step 2 :Data Preprocessing & Exploration (EDA)"
      ],
      "metadata": {
        "id": "JgNtSnqt5B0_"
      }
    },
    {
      "cell_type": "code",
      "source": [
        "# Fill any potential NaN values in 'title' or 'text' with an empty string\n",
        "df['title'] = df['title'].fillna('')\n",
        "df['text'] = df['text'].fillna('')\n",
        "print(\"Missing values after filling with empty string:\")\n",
        "print(df.isnull().sum())"
      ],
      "metadata": {
        "colab": {
          "base_uri": "https://localhost:8080/"
        },
        "id": "qwu6IACk4eCO",
        "outputId": "2066c427-55f1-40c2-9c1f-0b4bc222fcd9"
      },
      "execution_count": 6,
      "outputs": [
        {
          "output_type": "stream",
          "name": "stdout",
          "text": [
            "Missing values after filling with empty string:\n",
            "title      0\n",
            "text       0\n",
            "subject    0\n",
            "date       0\n",
            "Label      0\n",
            "dtype: int64\n"
          ]
        }
      ]
    },
    {
      "cell_type": "code",
      "source": [
        "df['full_text'] = df['title'] + \" \" + df['text']"
      ],
      "metadata": {
        "id": "IDedPgEd5oPo"
      },
      "execution_count": 7,
      "outputs": []
    },
    {
      "cell_type": "code",
      "source": [
        "#Initialize the lemmatizer and stop words\n",
        "import re\n",
        "from nltk.corpus import stopwords\n",
        "from nltk.stem import WordNetLemmatizer\n",
        "nltk.download('stopwords')\n",
        "nltk.download('wordnet')\n",
        "\n",
        "\n",
        "lemmatizer = WordNetLemmatizer()\n",
        "stop_words = set(stopwords.words('english'))\n",
        "\n"
      ],
      "metadata": {
        "colab": {
          "base_uri": "https://localhost:8080/"
        },
        "id": "HP16cLuv5yDW",
        "outputId": "bd126541-2c0c-4aa4-f3bd-e50d90ce7d26"
      },
      "execution_count": 8,
      "outputs": [
        {
          "output_type": "stream",
          "name": "stderr",
          "text": [
            "[nltk_data] Downloading package stopwords to /root/nltk_data...\n",
            "[nltk_data]   Package stopwords is already up-to-date!\n",
            "[nltk_data] Downloading package wordnet to /root/nltk_data...\n",
            "[nltk_data]   Package wordnet is already up-to-date!\n"
          ]
        }
      ]
    },
    {
      "cell_type": "code",
      "source": [
        "#Defining a text xleaning function\n",
        "def preprocess_text(text):\n",
        "    #convert to lowercase\n",
        "    text = text.lower()\n",
        "    #Remove punctuation and numbers , keep only alphabets and spaces\n",
        "    text = re.sub(r'[^a-z\\s]','',text)\n",
        "    #tokenize and remove stop words , then lemmatize\n",
        "    words = text.split()\n",
        "    words = [lemmatizer.lemmatize(word) for word in words if word not in stop_words]\n",
        "    #join the words back into a single string\n",
        "    return ' '.join(words)\n",
        "\n",
        "#Apply the cleaning function to the full_text column\n",
        "print(\"\\nApplying text preprocessing (this might take a moment, especially for large datasets)...\")\n",
        "df['clean_text'] = df['full_text'].apply(preprocess_text)\n",
        "print(\"Text preprocessing complete!\")\n"
      ],
      "metadata": {
        "colab": {
          "base_uri": "https://localhost:8080/"
        },
        "id": "n-Pk5m226V2U",
        "outputId": "9a76e15e-92dd-4ec4-a6d3-fbf4f1a38121"
      },
      "execution_count": 9,
      "outputs": [
        {
          "output_type": "stream",
          "name": "stdout",
          "text": [
            "\n",
            "Applying text preprocessing (this might take a moment, especially for large datasets)...\n",
            "Text preprocessing complete!\n"
          ]
        }
      ]
    },
    {
      "cell_type": "code",
      "source": [
        "#display the size\n",
        "print(df.shape)"
      ],
      "metadata": {
        "colab": {
          "base_uri": "https://localhost:8080/"
        },
        "id": "xb8DS-417sa7",
        "outputId": "4fc7ac76-64ae-4429-bdd8-413370a215d0"
      },
      "execution_count": 10,
      "outputs": [
        {
          "output_type": "stream",
          "name": "stdout",
          "text": [
            "(44898, 7)\n"
          ]
        }
      ]
    },
    {
      "cell_type": "code",
      "source": [
        "#display the first few rows in columns\n",
        "print(df[['title' , 'text', 'full_text', 'clean_text','Label']].head())"
      ],
      "metadata": {
        "colab": {
          "base_uri": "https://localhost:8080/"
        },
        "id": "Q7Q2yoTH8Fa5",
        "outputId": "51108c2a-dec3-46bb-c7b0-ff1013f23883"
      },
      "execution_count": 11,
      "outputs": [
        {
          "output_type": "stream",
          "name": "stdout",
          "text": [
            "                                               title  \\\n",
            "0  As U.S. budget fight looms, Republicans flip t...   \n",
            "1  U.S. military to accept transgender recruits o...   \n",
            "2  Senior U.S. Republican senator: 'Let Mr. Muell...   \n",
            "3  FBI Russia probe helped by Australian diplomat...   \n",
            "4  Trump wants Postal Service to charge 'much mor...   \n",
            "\n",
            "                                                text  \\\n",
            "0  WASHINGTON (Reuters) - The head of a conservat...   \n",
            "1  WASHINGTON (Reuters) - Transgender people will...   \n",
            "2  WASHINGTON (Reuters) - The special counsel inv...   \n",
            "3  WASHINGTON (Reuters) - Trump campaign adviser ...   \n",
            "4  SEATTLE/WASHINGTON (Reuters) - President Donal...   \n",
            "\n",
            "                                           full_text  \\\n",
            "0  As U.S. budget fight looms, Republicans flip t...   \n",
            "1  U.S. military to accept transgender recruits o...   \n",
            "2  Senior U.S. Republican senator: 'Let Mr. Muell...   \n",
            "3  FBI Russia probe helped by Australian diplomat...   \n",
            "4  Trump wants Postal Service to charge 'much mor...   \n",
            "\n",
            "                                          clean_text  Label  \n",
            "0  u budget fight loom republican flip fiscal scr...      0  \n",
            "1  u military accept transgender recruit monday p...      0  \n",
            "2  senior u republican senator let mr mueller job...      0  \n",
            "3  fbi russia probe helped australian diplomat ti...      0  \n",
            "4  trump want postal service charge much amazon s...      0  \n"
          ]
        }
      ]
    },
    {
      "cell_type": "code",
      "source": [
        "#we also check for length of clean_text to ensure content is present\n",
        "df['clean_text_length'] = df['clean_text'].apply(len)\n",
        "print(\"\\nCleaned Text Length Distribution (first 5):\")\n",
        "print(df['clean_text_length'].head())\n",
        "print(\"\\nOverall Cleaned Text Length Statistics:\")\n",
        "print(df['clean_text_length'].describe())"
      ],
      "metadata": {
        "colab": {
          "base_uri": "https://localhost:8080/"
        },
        "id": "f9MVoeM-8TL1",
        "outputId": "246384ee-9ce1-41dd-9d31-9dd18501a899"
      },
      "execution_count": 12,
      "outputs": [
        {
          "output_type": "stream",
          "name": "stdout",
          "text": [
            "\n",
            "Cleaned Text Length Distribution (first 5):\n",
            "0    3318\n",
            "1    3030\n",
            "2    1986\n",
            "3    1822\n",
            "4    3620\n",
            "Name: clean_text_length, dtype: int64\n",
            "\n",
            "Overall Cleaned Text Length Statistics:\n",
            "count    44898.000000\n",
            "mean      1765.604659\n",
            "std       1512.065830\n",
            "min         22.000000\n",
            "25%        919.000000\n",
            "50%       1554.000000\n",
            "75%       2192.000000\n",
            "max      37930.000000\n",
            "Name: clean_text_length, dtype: float64\n"
          ]
        }
      ]
    },
    {
      "cell_type": "markdown",
      "source": [
        "Step 3 : Text Vectorization"
      ],
      "metadata": {
        "id": "t_JTW_3o84Zq"
      }
    },
    {
      "cell_type": "code",
      "source": [
        "from sklearn.feature_extraction.text import TfidfVectorizer\n",
        "from sklearn.model_selection import train_test_split\n",
        "\n",
        "#Defining features and target\n",
        "X = df['clean_text']\n",
        "y = df['Label']\n",
        "\n",
        "print(\"Features and Target values are defined\")"
      ],
      "metadata": {
        "colab": {
          "base_uri": "https://localhost:8080/"
        },
        "id": "h8SVFKCs87cU",
        "outputId": "5ebb5337-82f8-498c-ef30-943ab7142c6a"
      },
      "execution_count": 14,
      "outputs": [
        {
          "output_type": "stream",
          "name": "stdout",
          "text": [
            "Features and Target values are defined\n"
          ]
        }
      ]
    },
    {
      "cell_type": "code",
      "source": [
        "tfidf_vectorizer = TfidfVectorizer(max_features=10000)\n",
        "print(\"Vectorizing text data...\")\n",
        "X_vectorized = tfidf_vectorizer.fit_transform(X)\n",
        "print(f\"Shape of vectorized data: {X_vectorized.shape}\")"
      ],
      "metadata": {
        "colab": {
          "base_uri": "https://localhost:8080/"
        },
        "id": "15YYcObf-lJK",
        "outputId": "fd549319-6e80-48a5-b191-c32def2999ee"
      },
      "execution_count": 15,
      "outputs": [
        {
          "output_type": "stream",
          "name": "stdout",
          "text": [
            "Vectorizing text data...\n",
            "Shape of vectorized data: (44898, 10000)\n"
          ]
        }
      ]
    },
    {
      "cell_type": "code",
      "source": [
        "print(\"\\nTop 10 features (words) learned by TF-IDF:\")\n",
        "feature_names = tfidf_vectorizer.get_feature_names_out()\n",
        "print(feature_names[:10])"
      ],
      "metadata": {
        "colab": {
          "base_uri": "https://localhost:8080/"
        },
        "id": "pV-16yKv_lhD",
        "outputId": "b12ee9ad-dd4a-4861-81d1-5c730a7edca5"
      },
      "execution_count": 16,
      "outputs": [
        {
          "output_type": "stream",
          "name": "stdout",
          "text": [
            "\n",
            "Top 10 features (words) learned by TF-IDF:\n",
            "['aaron' 'abadi' 'abandon' 'abandoned' 'abandoning' 'abbas' 'abbott' 'abc'\n",
            " 'abdel' 'abducted']\n"
          ]
        }
      ]
    },
    {
      "cell_type": "markdown",
      "source": [
        "step 4 : Model Building"
      ],
      "metadata": {
        "id": "-9w_1mgd_8lY"
      }
    },
    {
      "cell_type": "code",
      "source": [
        "from sklearn.linear_model import LogisticRegression\n",
        "from sklearn.metrics import accuracy_score, classification_report,confusion_matrix\n",
        "\n",
        "print(\"Splitting data into training and testing sets...\")\n",
        "X_train, X_test, y_train, y_test = train_test_split(X_vectorized, y, test_size=0.2, random_state=42)\n",
        "print(f\"Training data shape: {X_train.shape}\")\n",
        "print(f\"Testing data shape: {X_test.shape}\")"
      ],
      "metadata": {
        "colab": {
          "base_uri": "https://localhost:8080/"
        },
        "id": "Y0cjyAQN__V4",
        "outputId": "e875aa28-b1fe-4ad3-fe07-0f9ab761487c"
      },
      "execution_count": 17,
      "outputs": [
        {
          "output_type": "stream",
          "name": "stdout",
          "text": [
            "Splitting data into training and testing sets...\n",
            "Training data shape: (35918, 10000)\n",
            "Testing data shape: (8980, 10000)\n"
          ]
        }
      ]
    },
    {
      "cell_type": "code",
      "source": [
        "#Initializing Logistic Regression model\n",
        "model = LogisticRegression(max_iter=1000,solver='liblinear')\n",
        "print(\"Training the model...\")\n",
        "model.fit(X_train, y_train)\n",
        "print(\"Model training complete!\")"
      ],
      "metadata": {
        "colab": {
          "base_uri": "https://localhost:8080/"
        },
        "id": "s7EeGwLBAavZ",
        "outputId": "173178fe-6a6e-4afb-c322-a1a05cf447c6"
      },
      "execution_count": 18,
      "outputs": [
        {
          "output_type": "stream",
          "name": "stdout",
          "text": [
            "Training the model...\n",
            "Model training complete!\n"
          ]
        }
      ]
    },
    {
      "cell_type": "markdown",
      "source": [
        "Step 5 : Model Evaluation"
      ],
      "metadata": {
        "id": "yQGzzIFMBNEW"
      }
    },
    {
      "cell_type": "code",
      "source": [
        "print(\"Making predictions on the test set...\")\n",
        "y_pred = model.predict(X_test)\n",
        "\n",
        "#calculating accuracy\n",
        "accuracy = accuracy_score(y_test, y_pred)\n",
        "print(f\"Accuracy on the test set: {accuracy:.4f}\")"
      ],
      "metadata": {
        "colab": {
          "base_uri": "https://localhost:8080/"
        },
        "id": "YJgpzgyiBQAK",
        "outputId": "a290a3ab-e504-429e-edb7-3bebf9a0a9b1"
      },
      "execution_count": 19,
      "outputs": [
        {
          "output_type": "stream",
          "name": "stdout",
          "text": [
            "Making predictions on the test set...\n",
            "Accuracy on the test set: 0.9892\n"
          ]
        }
      ]
    },
    {
      "cell_type": "code",
      "source": [
        "#Display confusion matrix\n",
        "print(\"\\nConfusion Matrix:\")\n",
        "print(confusion_matrix(y_test, y_pred))"
      ],
      "metadata": {
        "colab": {
          "base_uri": "https://localhost:8080/"
        },
        "id": "8SXOOezrBhWd",
        "outputId": "d81a51ea-4de5-4c7d-ad67-c341acd86b67"
      },
      "execution_count": 20,
      "outputs": [
        {
          "output_type": "stream",
          "name": "stdout",
          "text": [
            "\n",
            "Confusion Matrix:\n",
            "[[4299   31]\n",
            " [  66 4584]]\n"
          ]
        }
      ]
    },
    {
      "cell_type": "code",
      "source": [
        "#Displaying classification report\n",
        "# This report provides Precision, Recall, and F1-Score for each class (0: True, 1: Fake)\n",
        "print(\"\\nClassification Report:\")\n",
        "print(classification_report(y_test, y_pred, target_names=['True News', 'Fake News']))"
      ],
      "metadata": {
        "colab": {
          "base_uri": "https://localhost:8080/"
        },
        "id": "ZaD8FvD2Bn2r",
        "outputId": "3d0266dc-fab7-4130-f340-5f8a802fd358"
      },
      "execution_count": 21,
      "outputs": [
        {
          "output_type": "stream",
          "name": "stdout",
          "text": [
            "\n",
            "Classification Report:\n",
            "              precision    recall  f1-score   support\n",
            "\n",
            "   True News       0.98      0.99      0.99      4330\n",
            "   Fake News       0.99      0.99      0.99      4650\n",
            "\n",
            "    accuracy                           0.99      8980\n",
            "   macro avg       0.99      0.99      0.99      8980\n",
            "weighted avg       0.99      0.99      0.99      8980\n",
            "\n"
          ]
        }
      ]
    },
    {
      "cell_type": "code",
      "source": [
        "\n",
        "print(\"\\nModel evaluation complete!\")"
      ],
      "metadata": {
        "colab": {
          "base_uri": "https://localhost:8080/"
        },
        "id": "VCniuNZMDwXe",
        "outputId": "8d10f6bb-f338-4a19-9d00-9c2aa652d21a"
      },
      "execution_count": 22,
      "outputs": [
        {
          "output_type": "stream",
          "name": "stdout",
          "text": [
            "\n",
            "Model evaluation complete!\n"
          ]
        }
      ]
    },
    {
      "cell_type": "markdown",
      "source": [
        "Step 6: Making Predictions on New Data"
      ],
      "metadata": {
        "id": "EFdZU0yVERSX"
      }
    },
    {
      "cell_type": "code",
      "source": [
        "print(\"\\n--- Making Predictions on New Data ---\")\n",
        "new_articles = [\"BREAKING NEWS: Scientists discover cure for all cancers, available next month!\", # Likely Fake\n",
        "    \"President issues executive order to increase national park funding by 20 percent. Details to follow.\", # Likely True\n",
        "    \"Aliens land in Times Square, declare peace and offer free energy to all humanity.\" # Definitely Fake\n",
        "                ]\n",
        "\n",
        "for i , article in enumerate(new_articles):\n",
        "    print(f\"-- Article {i + 1} --\")\n",
        "    print(f\"Original Text: {article}\")\n",
        "\n",
        "    # 1. Preprocess the new article using the same function\n",
        "    clean_new_article = preprocess_text(article)\n",
        "    print(f\"Cleaned Text: {clean_new_article}\")\n",
        "\n",
        "    # 2. Vectorize the cleaned text\n",
        "    vec_new_article = tfidf_vectorizer.transform([clean_new_article])\n",
        "\n",
        "    # 3. Make Prediction\n",
        "    prediction = model.predict(vec_new_article)\n",
        "    prediction_proba = model.predict_proba(vec_new_article) #to get the probability of prediction\n",
        "\n",
        "    # Interpret the prediction\n",
        "    if prediction[0] == 0:\n",
        "        print(f\"Prediction: REAL News (Confidence: {prediction_proba[0][0]:.2f})\")\n",
        "    else:\n",
        "        print(f\"Prediction: FAKE News (Confidence: {prediction_proba[0][1]:.2f})\")\n",
        "\n",
        "print(\"\\nPrediction demonstration complete!\")\n"
      ],
      "metadata": {
        "colab": {
          "base_uri": "https://localhost:8080/"
        },
        "id": "Y-vAprzsERzI",
        "outputId": "de1dc877-195d-45cd-cc64-fbe1936731d8"
      },
      "execution_count": 24,
      "outputs": [
        {
          "output_type": "stream",
          "name": "stdout",
          "text": [
            "\n",
            "--- Making Predictions on New Data ---\n",
            "-- Article 1 --\n",
            "Original Text: BREAKING NEWS: Scientists discover cure for all cancers, available next month!\n",
            "Cleaned Text: breaking news scientist discover cure cancer available next month\n",
            "Prediction: FAKE News (Confidence: 0.87)\n",
            "-- Article 2 --\n",
            "Original Text: President issues executive order to increase national park funding by 20 percent. Details to follow.\n",
            "Cleaned Text: president issue executive order increase national park funding percent detail follow\n",
            "Prediction: FAKE News (Confidence: 0.67)\n",
            "-- Article 3 --\n",
            "Original Text: Aliens land in Times Square, declare peace and offer free energy to all humanity.\n",
            "Cleaned Text: alien land time square declare peace offer free energy humanity\n",
            "Prediction: FAKE News (Confidence: 0.84)\n",
            "\n",
            "Prediction demonstration complete!\n"
          ]
        }
      ]
    },
    {
      "cell_type": "code",
      "source": [],
      "metadata": {
        "id": "9GcyHJfoFXaL"
      },
      "execution_count": null,
      "outputs": []
    }
  ]
}