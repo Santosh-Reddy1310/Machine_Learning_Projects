{
  "nbformat": 4,
  "nbformat_minor": 0,
  "metadata": {
    "colab": {
      "provenance": [],
      "authorship_tag": "ABX9TyOwtLMLogzy4UcCf+17YZps",
      "include_colab_link": true
    },
    "kernelspec": {
      "name": "python3",
      "display_name": "Python 3"
    },
    "language_info": {
      "name": "python"
    }
  },
  "cells": [
    {
      "cell_type": "markdown",
      "metadata": {
        "id": "view-in-github",
        "colab_type": "text"
      },
      "source": [
        "<a href=\"https://colab.research.google.com/github/Santosh-Reddy1310/Machine_Learning_Projects/blob/main/Credit_Card_Fraud_Detection.ipynb\" target=\"_parent\"><img src=\"https://colab.research.google.com/assets/colab-badge.svg\" alt=\"Open In Colab\"/></a>"
      ]
    },
    {
      "cell_type": "markdown",
      "source": [
        "Importing libraries"
      ],
      "metadata": {
        "id": "Odc5ExQnpA-7"
      }
    },
    {
      "cell_type": "code",
      "execution_count": 1,
      "metadata": {
        "id": "8o3KWxJGnU8U"
      },
      "outputs": [],
      "source": [
        "import pandas as pd\n",
        "import numpy as np\n",
        "import matplotlib.pyplot as plt\n",
        "import seaborn as sns\n",
        "from sklearn.model_selection import train_test_split\n",
        "from sklearn.metrics import accuracy_score , precision_score, recall_score , f1_score, confusion_matrix\n",
        "from sklearn.tree import DecisionTreeClassifier\n",
        "from sklearn.ensemble import RandomForestClassifier\n",
        "from sklearn.preprocessing import StandardScaler\n",
        "from imblearn.over_sampling import SMOTE"
      ]
    },
    {
      "cell_type": "markdown",
      "source": [
        "load the dataset"
      ],
      "metadata": {
        "id": "d_ZvurEPpvHW"
      }
    },
    {
      "cell_type": "code",
      "source": [
        "df = pd.read_csv('/content/creditcard_2023.csv')\n",
        "print(df.head())"
      ],
      "metadata": {
        "colab": {
          "base_uri": "https://localhost:8080/"
        },
        "id": "P_jVtJ8bpuGk",
        "outputId": "db42048a-884d-4a68-b6af-83654075a57e"
      },
      "execution_count": 2,
      "outputs": [
        {
          "output_type": "stream",
          "name": "stdout",
          "text": [
            "   id        V1        V2        V3  ...       V27       V28    Amount  Class\n",
            "0   0 -0.260648 -0.469648  2.496266  ... -0.081230 -0.151045  17982.10    0.0\n",
            "1   1  0.985100 -0.356045  0.558056  ... -0.248052 -0.064512   6531.37    0.0\n",
            "2   2 -0.260272 -0.949385  1.728538  ... -0.300258 -0.244718   2513.54    0.0\n",
            "3   3 -0.152152 -0.508959  1.746840  ... -0.165316  0.048424   5384.44    0.0\n",
            "4   4 -0.206820 -0.165280  1.527053  ...  0.023712  0.419117  14278.97    0.0\n",
            "\n",
            "[5 rows x 31 columns]\n"
          ]
        }
      ]
    },
    {
      "cell_type": "code",
      "source": [
        "print(df.info())"
      ],
      "metadata": {
        "colab": {
          "base_uri": "https://localhost:8080/"
        },
        "id": "_wUUbpOzp6h6",
        "outputId": "14a8a1ed-28e7-46ad-ba8a-fe67ab1739e0"
      },
      "execution_count": 3,
      "outputs": [
        {
          "output_type": "stream",
          "name": "stdout",
          "text": [
            "<class 'pandas.core.frame.DataFrame'>\n",
            "RangeIndex: 486417 entries, 0 to 486416\n",
            "Data columns (total 31 columns):\n",
            " #   Column  Non-Null Count   Dtype  \n",
            "---  ------  --------------   -----  \n",
            " 0   id      486417 non-null  int64  \n",
            " 1   V1      486417 non-null  float64\n",
            " 2   V2      486417 non-null  float64\n",
            " 3   V3      486417 non-null  float64\n",
            " 4   V4      486417 non-null  float64\n",
            " 5   V5      486417 non-null  float64\n",
            " 6   V6      486417 non-null  float64\n",
            " 7   V7      486417 non-null  float64\n",
            " 8   V8      486417 non-null  float64\n",
            " 9   V9      486417 non-null  float64\n",
            " 10  V10     486417 non-null  float64\n",
            " 11  V11     486417 non-null  float64\n",
            " 12  V12     486417 non-null  float64\n",
            " 13  V13     486417 non-null  float64\n",
            " 14  V14     486416 non-null  float64\n",
            " 15  V15     486416 non-null  float64\n",
            " 16  V16     486416 non-null  float64\n",
            " 17  V17     486416 non-null  float64\n",
            " 18  V18     486416 non-null  float64\n",
            " 19  V19     486416 non-null  float64\n",
            " 20  V20     486416 non-null  float64\n",
            " 21  V21     486416 non-null  float64\n",
            " 22  V22     486416 non-null  float64\n",
            " 23  V23     486416 non-null  float64\n",
            " 24  V24     486416 non-null  float64\n",
            " 25  V25     486416 non-null  float64\n",
            " 26  V26     486416 non-null  float64\n",
            " 27  V27     486416 non-null  float64\n",
            " 28  V28     486416 non-null  float64\n",
            " 29  Amount  486416 non-null  float64\n",
            " 30  Class   486416 non-null  float64\n",
            "dtypes: float64(30), int64(1)\n",
            "memory usage: 115.0 MB\n",
            "None\n"
          ]
        }
      ]
    },
    {
      "cell_type": "code",
      "source": [
        "print(df.isnull().sum())"
      ],
      "metadata": {
        "colab": {
          "base_uri": "https://localhost:8080/"
        },
        "id": "u4nNJnqGp-i2",
        "outputId": "be20c43b-b1cc-45ca-d0cd-02fa4ed153d9"
      },
      "execution_count": 4,
      "outputs": [
        {
          "output_type": "stream",
          "name": "stdout",
          "text": [
            "id        0\n",
            "V1        0\n",
            "V2        0\n",
            "V3        0\n",
            "V4        0\n",
            "V5        0\n",
            "V6        0\n",
            "V7        0\n",
            "V8        0\n",
            "V9        0\n",
            "V10       0\n",
            "V11       0\n",
            "V12       0\n",
            "V13       0\n",
            "V14       1\n",
            "V15       1\n",
            "V16       1\n",
            "V17       1\n",
            "V18       1\n",
            "V19       1\n",
            "V20       1\n",
            "V21       1\n",
            "V22       1\n",
            "V23       1\n",
            "V24       1\n",
            "V25       1\n",
            "V26       1\n",
            "V27       1\n",
            "V28       1\n",
            "Amount    1\n",
            "Class     1\n",
            "dtype: int64\n"
          ]
        }
      ]
    },
    {
      "cell_type": "markdown",
      "source": [
        "Exploratory Data Analysis"
      ],
      "metadata": {
        "id": "X8B1pmEBqGXI"
      }
    },
    {
      "cell_type": "code",
      "source": [
        "#analyzing the distribution of target variable\n",
        "print(\"\\n class Distribution \\n\")\n",
        "print(df['Class'].value_counts())"
      ],
      "metadata": {
        "colab": {
          "base_uri": "https://localhost:8080/"
        },
        "id": "xJlpG9QUqC_n",
        "outputId": "33eb5c60-2309-4171-9deb-40e10f957930"
      },
      "execution_count": 5,
      "outputs": [
        {
          "output_type": "stream",
          "name": "stdout",
          "text": [
            "\n",
            " class Distribution \n",
            "\n",
            "Class\n",
            "0.0    284315\n",
            "1.0    202101\n",
            "Name: count, dtype: int64\n"
          ]
        }
      ]
    },
    {
      "cell_type": "code",
      "source": [
        "print(\"\\n Percentage of fradulent transcation\")\n",
        "print(df['Class'].value_counts(normalize=True)*100)"
      ],
      "metadata": {
        "colab": {
          "base_uri": "https://localhost:8080/"
        },
        "id": "uC5vWzqaqbqF",
        "outputId": "90b97fc1-d853-429e-fc0e-bb120815a490"
      },
      "execution_count": 6,
      "outputs": [
        {
          "output_type": "stream",
          "name": "stdout",
          "text": [
            "\n",
            " Percentage of fradulent transcation\n",
            "Class\n",
            "0.0    58.450997\n",
            "1.0    41.549003\n",
            "Name: proportion, dtype: float64\n"
          ]
        }
      ]
    },
    {
      "cell_type": "code",
      "source": [
        "#visualization of class distribution\n",
        "sns.countplot(x='Class',data=df)\n",
        "plt.title(\"Class Distribution (0 not fraud , 1 fraud)\")\n",
        "plt.show()"
      ],
      "metadata": {
        "colab": {
          "base_uri": "https://localhost:8080/",
          "height": 472
        },
        "id": "ACzekr3qqmJH",
        "outputId": "9dd6343d-bfb6-4a51-fe8f-59471ede9975"
      },
      "execution_count": 7,
      "outputs": [
        {
          "output_type": "display_data",
          "data": {
            "text/plain": [
              "<Figure size 640x480 with 1 Axes>"
            ],
            "image/png": "[encoded data removed]"
          },
          "metadata": {}
        }
      ]
    },
    {
      "cell_type": "code",
      "source": [
        "#analyzing amount\n",
        "plt.figure(figsize=(10,5))\n",
        "sns.histplot(df['Amount'].dropna(), bins=50, kde=True)\n",
        "plt.title(\"Distribution of Amount\")\n",
        "plt.xlabel(\"Amount\")\n",
        "plt.ylabel(\"Frequency\")\n",
        "plt.show()"
      ],
      "metadata": {
        "colab": {
          "base_uri": "https://localhost:8080/",
          "height": 487
        },
        "id": "8EIiwRcjq3NU",
        "outputId": "b0e45ec8-d200-4aa7-8e0c-b7ed0677eb70"
      },
      "execution_count": 10,
      "outputs": [
        {
          "output_type": "display_data",
          "data": {
            "text/plain": [
              "<Figure size 1000x500 with 1 Axes>"
            ],
            "image/png": "[encoded data removed]"
          },
          "metadata": {}
        }
      ]
    },
    {
      "cell_type": "code",
      "source": [
        "#descriptive analysis for amount\n",
        "print(\"Descriptive Analysis of Amount\")\n",
        "print(df['Amount'].describe())"
      ],
      "metadata": {
        "colab": {
          "base_uri": "https://localhost:8080/"
        },
        "id": "QPXCjwErrYVH",
        "outputId": "9b94f888-3988-40f3-c75b-1b7de189c0e7"
      },
      "execution_count": 11,
      "outputs": [
        {
          "output_type": "stream",
          "name": "stdout",
          "text": [
            "Descriptive Analysis of Amount\n",
            "count    486416.000000\n",
            "mean      12038.295880\n",
            "std        6921.775041\n",
            "min          50.010000\n",
            "25%        6048.337500\n",
            "50%       12021.925000\n",
            "75%       18036.225000\n",
            "max       24039.930000\n",
            "Name: Amount, dtype: float64\n"
          ]
        }
      ]
    },
    {
      "cell_type": "code",
      "source": [
        "#proportion of the missing values\n",
        "print(\"Proportion of missing values\")\n",
        "print((df.isnull().sum() / len(df))* 100)"
      ],
      "metadata": {
        "colab": {
          "base_uri": "https://localhost:8080/"
        },
        "id": "gwgV5FoysViG",
        "outputId": "a78fb834-908e-4610-da36-f97ecf68c976"
      },
      "execution_count": 12,
      "outputs": [
        {
          "output_type": "stream",
          "name": "stdout",
          "text": [
            "Proportion of missing values\n",
            "id        0.000000\n",
            "V1        0.000000\n",
            "V2        0.000000\n",
            "V3        0.000000\n",
            "V4        0.000000\n",
            "V5        0.000000\n",
            "V6        0.000000\n",
            "V7        0.000000\n",
            "V8        0.000000\n",
            "V9        0.000000\n",
            "V10       0.000000\n",
            "V11       0.000000\n",
            "V12       0.000000\n",
            "V13       0.000000\n",
            "V14       0.000206\n",
            "V15       0.000206\n",
            "V16       0.000206\n",
            "V17       0.000206\n",
            "V18       0.000206\n",
            "V19       0.000206\n",
            "V20       0.000206\n",
            "V21       0.000206\n",
            "V22       0.000206\n",
            "V23       0.000206\n",
            "V24       0.000206\n",
            "V25       0.000206\n",
            "V26       0.000206\n",
            "V27       0.000206\n",
            "V28       0.000206\n",
            "Amount    0.000206\n",
            "Class     0.000206\n",
            "dtype: float64\n"
          ]
        }
      ]
    },
    {
      "cell_type": "markdown",
      "source": [
        "Data Preprocessing"
      ],
      "metadata": {
        "id": "PUvQXf5Hs_FK"
      }
    },
    {
      "cell_type": "code",
      "source": [
        "#impute numerical features with their median\n",
        "for col in ['V14', 'V15', 'V16', 'V17','V18', 'V19', 'V20', 'V21', 'V22', 'V23', 'V24', 'V25', 'V26', 'V27', 'V28', 'Amount']:\n",
        "  if df[col].isnull().any():\n",
        "      median_val = df[col].median()\n",
        "      df[col].fillna(median_val, inplace=True)\n",
        "      print(f\"filled missing values in {col} with median value {median_val}\")\n",
        "\n",
        "\n",
        "if df['Class'].isnull().any():\n",
        "  print(\"Missing values in class col detected\")\n",
        "  df.dropna(subset=['Class'], inplace=True)\n",
        "  print(\"Missing values in class col dropped\")\n",
        "  df['Class'] = df['Class'].astype(int)"
      ],
      "metadata": {
        "colab": {
          "base_uri": "https://localhost:8080/"
        },
        "id": "rC6Ukd24svxG",
        "outputId": "f02bd8f3-5589-47e4-9c38-179676842920"
      },
      "execution_count": 13,
      "outputs": [
        {
          "output_type": "stream",
          "name": "stdout",
          "text": [
            "filled missing values in V14 with median value 0.4148790992847752\n",
            "filled missing values in V15 with median value -0.034052373275316294\n",
            "filled missing values in V16 with median value 0.2376039229491998\n",
            "filled missing values in V17 with median value 0.3128072908286482\n",
            "filled missing values in V18 with median value 0.1417471831266586\n",
            "filled missing values in V19 with median value -0.06632035188056995\n",
            "filled missing values in V20 with median value -0.1489308181586303\n",
            "filled missing values in V21 with median value -0.056407709777708454\n",
            "filled missing values in V22 with median value -0.0292429916538127\n",
            "filled missing values in V23 with median value -0.0549293140769159\n",
            "filled missing values in V24 with median value 0.036807771450723004\n",
            "filled missing values in V25 with median value -0.015557791797840899\n",
            "filled missing values in V26 with median value -0.027602548151060703\n",
            "filled missing values in V27 with median value -0.19132011712996475\n",
            "filled missing values in V28 with median value -0.0300849497528482\n",
            "filled missing values in Amount with median value 12021.925\n",
            "Missing values in class col detected\n",
            "Missing values in class col dropped\n"
          ]
        }
      ]
    },
    {
      "cell_type": "code",
      "source": [
        "X = df.drop('Class', axis=1)\n",
        "y = df['Class']"
      ],
      "metadata": {
        "id": "ZE-9hS8YuBBV"
      },
      "execution_count": 14,
      "outputs": []
    },
    {
      "cell_type": "code",
      "source": [
        "scaler = StandardScaler()\n",
        "X['Amount'] = scaler.fit_transform(X[['Amount']])\n",
        "print(\"Amount column scaled\")"
      ],
      "metadata": {
        "colab": {
          "base_uri": "https://localhost:8080/"
        },
        "id": "LKl_OvgKuIPT",
        "outputId": "9d69307e-328b-47df-bc3f-180f3b7a35f3"
      },
      "execution_count": 15,
      "outputs": [
        {
          "output_type": "stream",
          "name": "stdout",
          "text": [
            "Amount column scaled\n"
          ]
        }
      ]
    },
    {
      "cell_type": "code",
      "source": [
        "X_train, X_test, y_train, y_test = train_test_split(X, y, test_size=0.3, random_state=42, stratify=y)\n"
      ],
      "metadata": {
        "id": "kvLoJvZluYnR"
      },
      "execution_count": 16,
      "outputs": []
    },
    {
      "cell_type": "code",
      "source": [
        "\n",
        "print(\"\\nShape of X_train:\", X_train.shape)\n",
        "print(\"Shape of X_test:\", X_test.shape)\n",
        "print(\"Shape of y_train:\", y_train.shape)\n",
        "print(\"Shape of y_test:\", y_test.shape)"
      ],
      "metadata": {
        "colab": {
          "base_uri": "https://localhost:8080/"
        },
        "id": "F5-ueVh_ucH2",
        "outputId": "a64899e6-e5b2-4f90-e65a-d8fe2a62ff6a"
      },
      "execution_count": 17,
      "outputs": [
        {
          "output_type": "stream",
          "name": "stdout",
          "text": [
            "\n",
            "Shape of X_train: (340491, 30)\n",
            "Shape of X_test: (145925, 30)\n",
            "Shape of y_train: (340491,)\n",
            "Shape of y_test: (145925,)\n"
          ]
        }
      ]
    },
    {
      "cell_type": "code",
      "source": [
        "#handling imbalanced dataset using smote\n",
        "smote = SMOTE(random_state=42)\n",
        "X_train_res, y_train_res = smote.fit_resample(X_train, y_train)"
      ],
      "metadata": {
        "id": "9YieUrKJueNZ"
      },
      "execution_count": 18,
      "outputs": []
    },
    {
      "cell_type": "code",
      "source": [
        "print(\"\\nClass distribution after SMOTE (training data):\")\n",
        "print(y_train_res.value_counts())"
      ],
      "metadata": {
        "colab": {
          "base_uri": "https://localhost:8080/"
        },
        "id": "Cjj_KXsAus5n",
        "outputId": "a020bf08-8839-48db-a153-0a11f46b0c34"
      },
      "execution_count": 19,
      "outputs": [
        {
          "output_type": "stream",
          "name": "stdout",
          "text": [
            "\n",
            "Class distribution after SMOTE (training data):\n",
            "Class\n",
            "0    199020\n",
            "1    199020\n",
            "Name: count, dtype: int64\n"
          ]
        }
      ]
    },
    {
      "cell_type": "code",
      "source": [
        "#building the models\n",
        "dt_model = DecisionTreeClassifier(random_state=42)\n",
        "dt_model.fit(X_train_res, y_train_res)\n",
        "print(\"Decision Tree is trained\")"
      ],
      "metadata": {
        "colab": {
          "base_uri": "https://localhost:8080/"
        },
        "id": "Czzlu0rgvWRT",
        "outputId": "bc1e8c5a-1cd6-457f-8d9d-04acb84370cf"
      },
      "execution_count": 20,
      "outputs": [
        {
          "output_type": "stream",
          "name": "stdout",
          "text": [
            "Decision Tree is trained\n"
          ]
        }
      ]
    },
    {
      "cell_type": "code",
      "source": [
        "#make predictions on the original test set\n",
        "y_pred_dt = dt_model.predict(X_test)\n",
        "\n",
        "\n",
        "#evaluation decision tree model\n",
        "print(\"\\nDecision Tree Metrics:\")\n",
        "print(f\"Accuracy: {accuracy_score(y_test, y_pred_dt):.4f}\")\n",
        "print(f\"Precision: {precision_score(y_test, y_pred_dt):.4f}\")\n",
        "print(f\"Recall: {recall_score(y_test, y_pred_dt):.4f}\")\n",
        "print(f\"F1-Score: {f1_score(y_test, y_pred_dt):.4f}\")"
      ],
      "metadata": {
        "colab": {
          "base_uri": "https://localhost:8080/"
        },
        "id": "VQ4mpiXGwrXa",
        "outputId": "80c12d17-9fdf-477c-8f9a-8bc36ccddc50"
      },
      "execution_count": 21,
      "outputs": [
        {
          "output_type": "stream",
          "name": "stdout",
          "text": [
            "\n",
            "Decision Tree Metrics:\n",
            "Accuracy: 0.9995\n",
            "Precision: 0.9994\n",
            "Recall: 0.9995\n",
            "F1-Score: 0.9994\n"
          ]
        }
      ]
    },
    {
      "cell_type": "code",
      "source": [
        "# Confusion Matrix for Decision Tree\n",
        "cm_dt = confusion_matrix(y_test, y_pred_dt)\n",
        "plt.figure(figsize=(6, 4))\n",
        "sns.heatmap(cm_dt, annot=True, fmt='d', cmap='Blues',\n",
        "            xticklabels=['Not Fraud', 'Fraud'],\n",
        "            yticklabels=['Not Fraud', 'Fraud'])\n",
        "plt.xlabel('Predicted')\n",
        "plt.ylabel('Actual')\n",
        "plt.title('Decision Tree Confusion Matrix')\n",
        "plt.show()\n",
        "print(\"Decision Tree Confusion Matrix displayed.\")"
      ],
      "metadata": {
        "colab": {
          "base_uri": "https://localhost:8080/",
          "height": 427
        },
        "id": "yA4kuPzXxHVL",
        "outputId": "023fb70a-8a13-4b68-d582-5290dd5942c6"
      },
      "execution_count": 22,
      "outputs": [
        {
          "output_type": "display_data",
          "data": {
            "text/plain": [
              "<Figure size 600x400 with 2 Axes>"
            ],
            "image/png": "[encoded data removed]"
          },
          "metadata": {}
        },
        {
          "output_type": "stream",
          "name": "stdout",
          "text": [
            "Decision Tree Confusion Matrix displayed.\n"
          ]
        }
      ]
    },
    {
      "cell_type": "code",
      "source": [
        "#Random Forest model\n",
        "rf_model = RandomForestClassifier(random_state=42)\n",
        "rf_model.fit(X_train_res, y_train_res)\n",
        "print(\"Random Forest is trained\")"
      ],
      "metadata": {
        "colab": {
          "base_uri": "https://localhost:8080/"
        },
        "id": "gy-_t85CxR6s",
        "outputId": "6fdd5f94-2a1f-44b6-dcd8-1cd50a22fe96"
      },
      "execution_count": 24,
      "outputs": [
        {
          "output_type": "stream",
          "name": "stdout",
          "text": [
            "Random Forest is trained\n"
          ]
        }
      ]
    },
    {
      "cell_type": "code",
      "source": [
        "y_pred_rf = rf_model.predict(X_test)\n",
        "\n",
        "# Evaluate the Random Forest model\n",
        "print(\"\\nRandom Forest Metrics:\")\n",
        "print(f\"Accuracy: {accuracy_score(y_test, y_pred_rf):.4f}\")\n",
        "print(f\"Precision: {precision_score(y_test, y_pred_rf):.4f}\")\n",
        "print(f\"Recall: {recall_score(y_test, y_pred_rf):.4f}\")\n",
        "print(f\"F1-Score: {f1_score(y_test, y_pred_rf):.4f}\")"
      ],
      "metadata": {
        "colab": {
          "base_uri": "https://localhost:8080/"
        },
        "id": "TTMmWuuQxyVZ",
        "outputId": "2b4c7c01-d491-4c92-fc1e-e6739e2389a7"
      },
      "execution_count": 25,
      "outputs": [
        {
          "output_type": "stream",
          "name": "stdout",
          "text": [
            "\n",
            "Random Forest Metrics:\n",
            "Accuracy: 0.9998\n",
            "Precision: 0.9999\n",
            "Recall: 0.9996\n",
            "F1-Score: 0.9998\n"
          ]
        }
      ]
    },
    {
      "cell_type": "code",
      "source": [
        "# Confusion Matrix for Random Forest\n",
        "cm_rf = confusion_matrix(y_test, y_pred_rf)\n",
        "plt.figure(figsize=(6, 4))\n",
        "sns.heatmap(cm_rf, annot=True, fmt='d', cmap='Blues',\n",
        "            xticklabels=['Not Fraud', 'Fraud'],\n",
        "            yticklabels=['Not Fraud', 'Fraud'])\n",
        "plt.xlabel('Predicted')\n",
        "plt.ylabel('Actual')\n",
        "plt.title('Random Forest Confusion Matrix')\n",
        "plt.show()\n",
        "print(\"Random Forest Confusion Matrix displayed.\")\n"
      ],
      "metadata": {
        "colab": {
          "base_uri": "https://localhost:8080/",
          "height": 427
        },
        "id": "L5lrNW_u0-mM",
        "outputId": "30b32634-233b-4fe0-8ae6-088eaa370089"
      },
      "execution_count": 26,
      "outputs": [
        {
          "output_type": "display_data",
          "data": {
            "text/plain": [
              "<Figure size 600x400 with 2 Axes>"
            ],
            "image/png": "[encoded data removed]"
          },
          "metadata": {}
        },
        {
          "output_type": "stream",
          "name": "stdout",
          "text": [
            "Random Forest Confusion Matrix displayed.\n"
          ]
        }
      ]
    },
    {
      "cell_type": "code",
      "source": [
        "#comparing models\n",
        "print(\"\\n--- Model Comparison ---\")\n",
        "print(\"Metric    | Decision Tree | Random Forest\")\n",
        "print(\"----------|---------------|--------------\")\n",
        "print(f\"Accuracy  | {accuracy_score(y_test, y_pred_dt):.4f}      | {accuracy_score(y_test, y_pred_rf):.4f}\")\n",
        "print(f\"Precision | {precision_score(y_test, y_pred_dt):.4f}      | {precision_score(y_test, y_pred_rf):.4f}\")\n",
        "print(f\"Recall    | {recall_score(y_test, y_pred_dt):.4f}      | {recall_score(y_test, y_pred_rf):.4f}\")\n",
        "print(f\"F1-Score  | {f1_score(y_test, y_pred_dt):.4f}      | {f1_score(y_test, y_pred_rf):.4f}\")"
      ],
      "metadata": {
        "colab": {
          "base_uri": "https://localhost:8080/"
        },
        "id": "NxU2coa61Dlw",
        "outputId": "3916b1c0-13a3-44f2-eb47-d7db3d3b4790"
      },
      "execution_count": 27,
      "outputs": [
        {
          "output_type": "stream",
          "name": "stdout",
          "text": [
            "\n",
            "--- Model Comparison ---\n",
            "Metric    | Decision Tree | Random Forest\n",
            "----------|---------------|--------------\n",
            "Accuracy  | 0.9995      | 0.9998\n",
            "Precision | 0.9994      | 0.9999\n",
            "Recall    | 0.9995      | 0.9996\n",
            "F1-Score  | 0.9994      | 0.9998\n"
          ]
        }
      ]
    },
    {
      "cell_type": "code",
      "source": [],
      "metadata": {
        "id": "N3uX-xmQ1KQG"
      },
      "execution_count": null,
      "outputs": []
    }
  ]
}